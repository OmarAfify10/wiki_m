{
  "nbformat": 4,
  "nbformat_minor": 0,
  "metadata": {
    "colab": {
      "provenance": [],
      "authorship_tag": "ABX9TyMdtqomO56xeAx8SFduWpES",
      "include_colab_link": true
    },
    "kernelspec": {
      "name": "python3",
      "display_name": "Python 3"
    },
    "language_info": {
      "name": "python"
    }
  },
  "cells": [
    {
      "cell_type": "markdown",
      "metadata": {
        "id": "view-in-github",
        "colab_type": "text"
      },
      "source": [
        "<a href=\"https://colab.research.google.com/github/OmarAfify10/wiki_m/blob/main/wiki_xml.ipynb\" target=\"_parent\"><img src=\"https://colab.research.google.com/assets/colab-badge.svg\" alt=\"Open In Colab\"/></a>"
      ]
    },
    {
      "cell_type": "code",
      "execution_count": 13,
      "metadata": {
        "id": "u_oupSZuQJgv",
        "colab": {
          "base_uri": "https://localhost:8080/"
        },
        "outputId": "72bee00d-c6be-4da2-fd8c-68f8a916eb1d"
      },
      "outputs": [
        {
          "output_type": "stream",
          "name": "stdout",
          "text": [
            "{'encoding': 'ascii', 'confidence': 1.0, 'language': ''}\n"
          ]
        }
      ],
      "source": [
        "import chardet\n",
        "\n",
        "with open('/content/wiki_main.xml', 'rb') as f:\n",
        "    raw = f.read(10000)  # read first 10k bytes\n",
        "    result = chardet.detect(raw)\n",
        "    print(result)"
      ]
    },
    {
      "cell_type": "code",
      "source": [
        "with open('/content/wiki_main.xml', 'rb') as f:\n",
        "    data = f.read(1000000)  # read 1MB\n",
        "    print(chardet.detect(data))\n"
      ],
      "metadata": {
        "id": "dXrV1E3eQqw3",
        "outputId": "1ff33288-e147-4502-918a-0eb108dd8a51",
        "colab": {
          "base_uri": "https://localhost:8080/"
        }
      },
      "execution_count": 14,
      "outputs": [
        {
          "output_type": "stream",
          "name": "stdout",
          "text": [
            "{'encoding': 'utf-8', 'confidence': 0.99, 'language': ''}\n"
          ]
        }
      ]
    },
    {
      "cell_type": "code",
      "source": [
        "#with open('wiki_main.xml', 'rb') as f:\n",
        "    #raw = f.read()\n",
        "\n",
        "# Attempt to fix broken utf-8 sequences wrongly decoded as latin1\n",
        "#fixed_text = raw.decode('Latin1').encode('utf-8').decode('utf-8')\n",
        "\n",
        "#print(fixed_text[:22500])\n"
      ],
      "metadata": {
        "id": "mpylM4TceXIf"
      },
      "execution_count": null,
      "outputs": []
    },
    {
      "cell_type": "code",
      "source": [
        "import xml.etree.ElementTree as ET\n",
        "\n",
        "try:\n",
        "    ET.parse('wiki_main.xml')\n",
        "    print(\"XML is valid.\")\n",
        "except ET.ParseError as e:\n",
        "    print(\"Invalid XML:\", e)\n"
      ],
      "metadata": {
        "colab": {
          "base_uri": "https://localhost:8080/"
        },
        "id": "eAwqFGIN7DAB",
        "outputId": "5d17473a-ed8b-489a-8a21-5b6ba21cd79a"
      },
      "execution_count": 15,
      "outputs": [
        {
          "output_type": "stream",
          "name": "stdout",
          "text": [
            "XML is valid.\n"
          ]
        }
      ]
    },
    {
      "cell_type": "code",
      "source": [
        "#from xml.etree.ElementTree import iterparse, ElementTree, Element\n",
        "\n",
        "#input_file = \"wiki_main.xml\"\n",
        "#output_file = \"cleaned.xml\"\n",
        "\n",
        "#context = iterparse(input_file, events=(\"start\", \"end\"))\n",
        "#_, root = next(context)  # get root element\n",
        "\n",
        "#valid_elements = []\n",
        "\n",
        "#try:\n",
        " #   for event, elem in context:\n",
        "  #      if event == \"end\":\n",
        "   #         valid_elements.append(elem)\n",
        "    #        root.clear()\n",
        "#except Exception as e:\n",
        " #   print(\"Stopped parsing due to error:\", e)\n",
        "\n",
        "# Save valid elements into a new XML file\n",
        "#new_root = Element(root.tag)\n",
        "#new_root.extend(valid_elements)\n",
        "\n",
        "#tree = ElementTree(new_root)\n",
        "#tree.write(output_file, encoding='utf-8', xml_declaration=True)\n",
        "#print(f\"Saved cleaned XML to {output_file}\")\n"
      ],
      "metadata": {
        "colab": {
          "base_uri": "https://localhost:8080/"
        },
        "id": "7ok2t6IO7vFq",
        "outputId": "37106afe-5fbb-4bcf-8b03-4d325e3428b7"
      },
      "execution_count": null,
      "outputs": [
        {
          "output_type": "stream",
          "name": "stdout",
          "text": [
            "Saved cleaned XML to cleaned.xml\n"
          ]
        }
      ]
    },
    {
      "cell_type": "code",
      "source": [
        "import xml.etree.ElementTree as ET\n",
        "import re\n",
        "\n",
        "input_file = \"wiki_main.xml\"\n",
        "output_file = \"wiki_cleaned_text_only.xml\"\n",
        "\n",
        "# VIN and email patterns\n",
        "vin_pattern = re.compile(r'\\b[A-HJ-NPR-Z0-9]{17}\\b')\n",
        "email_pattern = re.compile(r'[a-zA-Z0-9_.+-]+@[a-zA-Z0-9-]+\\.[a-zA-Z0-9-.]+', re.IGNORECASE)\n",
        "\n",
        "# Tags whose content should be fully excluded\n",
        "excluded_tags = {\"username\", \"ip\", \"id\", \"contributor\", \"sha1\", \"origin\", \"model\", \"format\"}\n",
        "\n",
        "# Start parsing\n",
        "context = ET.iterparse(input_file, events=(\"end\",))\n",
        "_, root = next(context)\n",
        "\n",
        "with open(output_file, \"w\", encoding=\"utf-8\") as f:\n",
        "    for event, elem in context:\n",
        "        tag_name = elem.tag.split('}')[-1].lower()\n",
        "\n",
        "        # Skip both tag and its content if it's in the exclusion list\n",
        "        if tag_name in excluded_tags:\n",
        "            elem.clear()\n",
        "            continue\n",
        "\n",
        "        # Get text and clean it\n",
        "        text = \"\".join(elem.itertext()).strip()\n",
        "        if not text:\n",
        "            elem.clear()\n",
        "            continue\n",
        "\n",
        "        # Remove VINs and emails\n",
        "        text = vin_pattern.sub(\"\", text)\n",
        "        text = email_pattern.sub(\"\", text)\n",
        "\n",
        "        # Write cleaned visible text only\n",
        "        f.write(text + \"\\n\")\n",
        "\n",
        "        elem.clear()\n",
        "\n",
        "print(f\"✅ Fully cleaned plain-text file saved as: {output_file}\")\n"
      ],
      "metadata": {
        "id": "90Teb0WUvz8D",
        "colab": {
          "base_uri": "https://localhost:8080/"
        },
        "outputId": "505db61d-0453-4361-ee33-ba073d632ec9"
      },
      "execution_count": 16,
      "outputs": [
        {
          "output_type": "stream",
          "name": "stdout",
          "text": [
            "✅ Fully cleaned plain-text file saved as: wiki_cleaned_text_only.xml\n"
          ]
        }
      ]
    },
    {
      "cell_type": "code",
      "source": [
        "import xml.etree.ElementTree as ET\n",
        "import re\n",
        "\n",
        "input_file = \"wiki_main.xml\"\n",
        "output_file = \"wiki_cleaned_text_only.xml\"\n",
        "\n",
        "# VIN and email patterns\n",
        "vin_pattern = re.compile(r'\\b[A-HJ-NPR-Z0-9]{17}\\b')\n",
        "email_pattern = re.compile(r'[a-zA-Z0-9_.+-]+@[a-zA-Z0-9-]+\\.[a-zA-Z0-9-.]+', re.IGNORECASE)\n",
        "\n",
        "# Parse the file\n",
        "context = ET.iterparse(input_file, events=(\"end\",))\n",
        "_, root = next(context)\n",
        "\n",
        "with open(output_file, \"w\", encoding=\"utf-8\") as f:\n",
        "    for event, elem in context:\n",
        "        # Get all text content from this element\n",
        "        text = \"\".join(elem.itertext()).strip()\n",
        "\n",
        "        # Skip empty content\n",
        "        if not text:\n",
        "            elem.clear()\n",
        "            continue\n",
        "\n",
        "        # Remove sensitive patterns\n",
        "        text = vin_pattern.sub(\"\", text)\n",
        "        text = email_pattern.sub(\"\", text)\n",
        "\n",
        "        # Write clean text (no XML tags)\n",
        "        f.write(text + \"\\n\")\n",
        "\n",
        "        # Clear memory\n",
        "        elem.clear()\n",
        "\n",
        "print(f\"✅ Cleaned plain-text XML written to: {output_file}\")\n",
        "\n",
        "\n"
      ],
      "metadata": {
        "colab": {
          "base_uri": "https://localhost:8080/"
        },
        "id": "xIcBwJIkH9WA",
        "outputId": "f231ae57-dbe6-40f6-e571-a910074853d7"
      },
      "execution_count": null,
      "outputs": [
        {
          "output_type": "stream",
          "name": "stdout",
          "text": [
            "✅ Cleaned plain-text XML written to: wiki_cleaned_text_only.xml\n"
          ]
        }
      ]
    },
    {
      "cell_type": "code",
      "source": [
        "import xml.etree.ElementTree as ET\n",
        "\n",
        "# Load the full XML file\n",
        "#tree = ET.parse('cleaned.xml')\n",
        "tree = ET.parse('wiki_main.xml')\n",
        "root = tree.getroot()\n",
        "\n",
        "# Get all child elements (assuming you want to split these)\n",
        "children = list(root)\n",
        "\n",
        "# Split point (halfway)\n",
        "mid = len(children) // 2\n",
        "\n",
        "# Helper function to write part of the tree\n",
        "def write_partial_xml(elements, filename):\n",
        "    partial_root = ET.Element(root.tag, root.attrib)\n",
        "    partial_root.extend(elements)\n",
        "    partial_tree = ET.ElementTree(partial_root)\n",
        "    partial_tree.write(filename, encoding='utf-8', xml_declaration=True)\n",
        "\n",
        "# Write the two parts\n",
        "write_partial_xml(children[:mid], 'part1.xml')\n",
        "write_partial_xml(children[mid:], 'part2.xml')\n",
        "\n",
        "print(\"XML file successfully split into 'part1.xml' and 'part2.xml'\")"
      ],
      "metadata": {
        "colab": {
          "base_uri": "https://localhost:8080/"
        },
        "id": "iP7IPpnZ6R27",
        "outputId": "94e8fa7b-7412-47e8-9828-d4c0646f60f3"
      },
      "execution_count": null,
      "outputs": [
        {
          "output_type": "stream",
          "name": "stdout",
          "text": [
            "XML file successfully split into 'part1.xml' and 'part2.xml'\n"
          ]
        }
      ]
    }
  ]
}